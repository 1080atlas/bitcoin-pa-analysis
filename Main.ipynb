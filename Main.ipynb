{
 "cells": [
  {
   "cell_type": "markdown",
   "id": "aafc02d2-fa3b-4fe7-97f2-f6efe0d079d3",
   "metadata": {},
   "source": [
    "Importing and cleaning dataset"
   ]
  },
  {
   "cell_type": "code",
   "execution_count": 66,
   "id": "5e3d36e6-7d73-4e63-be92-c0107cb2342b",
   "metadata": {},
   "outputs": [
    {
     "data": {
      "text/html": [
       "<div>\n",
       "<style scoped>\n",
       "    .dataframe tbody tr th:only-of-type {\n",
       "        vertical-align: middle;\n",
       "    }\n",
       "\n",
       "    .dataframe tbody tr th {\n",
       "        vertical-align: top;\n",
       "    }\n",
       "\n",
       "    .dataframe thead th {\n",
       "        text-align: right;\n",
       "    }\n",
       "</style>\n",
       "<table border=\"1\" class=\"dataframe\">\n",
       "  <thead>\n",
       "    <tr style=\"text-align: right;\">\n",
       "      <th></th>\n",
       "      <th>Open</th>\n",
       "      <th>High</th>\n",
       "      <th>Low</th>\n",
       "      <th>Close</th>\n",
       "    </tr>\n",
       "  </thead>\n",
       "  <tbody>\n",
       "    <tr>\n",
       "      <th>2020-01-01</th>\n",
       "      <td>7194</td>\n",
       "      <td>7254</td>\n",
       "      <td>7174</td>\n",
       "      <td>7200</td>\n",
       "    </tr>\n",
       "    <tr>\n",
       "      <th>2020-01-02</th>\n",
       "      <td>7202</td>\n",
       "      <td>7212</td>\n",
       "      <td>6935</td>\n",
       "      <td>6985</td>\n",
       "    </tr>\n",
       "    <tr>\n",
       "      <th>2020-01-03</th>\n",
       "      <td>6984</td>\n",
       "      <td>7413</td>\n",
       "      <td>6914</td>\n",
       "      <td>7344</td>\n",
       "    </tr>\n",
       "    <tr>\n",
       "      <th>2020-01-04</th>\n",
       "      <td>7345</td>\n",
       "      <td>7427</td>\n",
       "      <td>7309</td>\n",
       "      <td>7410</td>\n",
       "    </tr>\n",
       "    <tr>\n",
       "      <th>2020-01-05</th>\n",
       "      <td>7410</td>\n",
       "      <td>7544</td>\n",
       "      <td>7400</td>\n",
       "      <td>7411</td>\n",
       "    </tr>\n",
       "    <tr>\n",
       "      <th>...</th>\n",
       "      <td>...</td>\n",
       "      <td>...</td>\n",
       "      <td>...</td>\n",
       "      <td>...</td>\n",
       "    </tr>\n",
       "    <tr>\n",
       "      <th>2025-04-15</th>\n",
       "      <td>84539</td>\n",
       "      <td>86429</td>\n",
       "      <td>83598</td>\n",
       "      <td>83668</td>\n",
       "    </tr>\n",
       "    <tr>\n",
       "      <th>2025-04-16</th>\n",
       "      <td>83674</td>\n",
       "      <td>85428</td>\n",
       "      <td>83100</td>\n",
       "      <td>84033</td>\n",
       "    </tr>\n",
       "    <tr>\n",
       "      <th>2025-04-17</th>\n",
       "      <td>84030</td>\n",
       "      <td>85449</td>\n",
       "      <td>83749</td>\n",
       "      <td>84895</td>\n",
       "    </tr>\n",
       "    <tr>\n",
       "      <th>2025-04-18</th>\n",
       "      <td>84900</td>\n",
       "      <td>85095</td>\n",
       "      <td>84298</td>\n",
       "      <td>84450</td>\n",
       "    </tr>\n",
       "    <tr>\n",
       "      <th>2025-04-19</th>\n",
       "      <td>84450</td>\n",
       "      <td>85597</td>\n",
       "      <td>84353</td>\n",
       "      <td>85063</td>\n",
       "    </tr>\n",
       "  </tbody>\n",
       "</table>\n",
       "<p>1936 rows × 4 columns</p>\n",
       "</div>"
      ],
      "text/plain": [
       "             Open   High    Low  Close\n",
       "2020-01-01   7194   7254   7174   7200\n",
       "2020-01-02   7202   7212   6935   6985\n",
       "2020-01-03   6984   7413   6914   7344\n",
       "2020-01-04   7345   7427   7309   7410\n",
       "2020-01-05   7410   7544   7400   7411\n",
       "...           ...    ...    ...    ...\n",
       "2025-04-15  84539  86429  83598  83668\n",
       "2025-04-16  83674  85428  83100  84033\n",
       "2025-04-17  84030  85449  83749  84895\n",
       "2025-04-18  84900  85095  84298  84450\n",
       "2025-04-19  84450  85597  84353  85063\n",
       "\n",
       "[1936 rows x 4 columns]"
      ]
     },
     "execution_count": 66,
     "metadata": {},
     "output_type": "execute_result"
    }
   ],
   "source": [
    "import yfinance as yf\n",
    "import pandas as pd\n",
    "import statistics as st\n",
    "import matplotlib.pyplot as plt\n",
    "import numpy as np\n",
    "\n",
    "\n",
    "# define the variable \"btc\" as the yf ticker function, and the argument as the BTC ticker.\n",
    "btc = yf.Ticker(\"BTC-USD\") \n",
    "\n",
    "# define the variable \"btc_data\" as the yf historical price retrieval function, with the start, end date and interval as arguments.\n",
    "btc_data = btc.history(start=\"2020-01-01\", end=\"2025-04-20\", interval=\"1d\")\n",
    "\n",
    "# create the dataframe, using pandas function .DataFrame taking the variable \"btc_data\" as argument. This fills the dataframe with historical bitcoin prices as per defined in previous line. \n",
    "btc_df = pd.DataFrame(btc_data)\n",
    "\n",
    "# clean up the dataset a little bit, removing volume, dividend and stock splits, as these are irrelevant.\n",
    "btc_df = btc_df.drop(columns=[\"Volume\", \"Dividends\", \"Stock Splits\"])\n",
    "\n",
    "# Convert all price columns to integers (truncate decimals)\n",
    "btc_df[['Open', 'High', 'Low', 'Close']] = btc_df[['Open', 'High', 'Low', 'Close']].astype(int)\n",
    "\n",
    "# Convert DatetimeIndex to date only (remove time and timezone)\n",
    "btc_df.index = btc_df.index.date\n",
    "\n",
    "# print the head, or the start, of the dataframe.\n",
    "btc_df"
   ]
  },
  {
   "cell_type": "code",
   "execution_count": 68,
   "id": "d2fefd74-6c2a-4084-9d2d-5d721adf4d89",
   "metadata": {},
   "outputs": [
    {
     "name": "stdout",
     "output_type": "stream",
     "text": [
      "No missing dates\n"
     ]
    }
   ],
   "source": [
    "# Create a complete date range from min to max date in the index\n",
    "date_range = pd.date_range(start=btc_df.index.min(), end=btc_df.index.max(), freq='D')\n",
    "\n",
    "# Check for missing dates\n",
    "missing_dates = date_range.difference(btc_df.index)\n",
    "if len(missing_dates) > 0:\n",
    "    print(\"Missing dates:\", missing_dates)\n",
    "else:\n",
    "    print(\"No missing dates\")"
   ]
  },
  {
   "cell_type": "markdown",
   "id": "0e946cf4-8325-400f-af68-a6b673c75975",
   "metadata": {},
   "source": [
    "Applying simple statistics to the dataset"
   ]
  },
  {
   "cell_type": "code",
   "execution_count": 69,
   "id": "70cbb6eb-7710-4430-afc4-c3a039c55370",
   "metadata": {},
   "outputs": [
    {
     "data": {
      "text/plain": [
       "Open     39388.280475\n",
       "High     40243.020145\n",
       "Low      38491.389979\n",
       "Close    39426.228306\n",
       "dtype: float64"
      ]
     },
     "execution_count": 69,
     "metadata": {},
     "output_type": "execute_result"
    }
   ],
   "source": [
    "btc_df.mean()"
   ]
  },
  {
   "cell_type": "code",
   "execution_count": 65,
   "id": "7f6b3f93-4b34-48fe-bb00-8ac2794b5740",
   "metadata": {},
   "outputs": [
    {
     "data": {
      "text/plain": [
       "Open     35068.5\n",
       "High     36066.5\n",
       "Low      33879.5\n",
       "Close    35184.5\n",
       "dtype: float64"
      ]
     },
     "execution_count": 65,
     "metadata": {},
     "output_type": "execute_result"
    }
   ],
   "source": [
    "btc_df.median()"
   ]
  },
  {
   "cell_type": "code",
   "execution_count": null,
   "id": "bfc3075c-e802-4127-a6e4-d626bf6fef81",
   "metadata": {},
   "outputs": [],
   "source": []
  },
  {
   "cell_type": "code",
   "execution_count": null,
   "id": "c0f0ec6b-47a1-4630-ae9a-aa763be58cc4",
   "metadata": {},
   "outputs": [],
   "source": []
  }
 ],
 "metadata": {
  "kernelspec": {
   "display_name": "Python 3 (ipykernel)",
   "language": "python",
   "name": "python3"
  },
  "language_info": {
   "codemirror_mode": {
    "name": "ipython",
    "version": 3
   },
   "file_extension": ".py",
   "mimetype": "text/x-python",
   "name": "python",
   "nbconvert_exporter": "python",
   "pygments_lexer": "ipython3",
   "version": "3.11.5"
  }
 },
 "nbformat": 4,
 "nbformat_minor": 5
}
