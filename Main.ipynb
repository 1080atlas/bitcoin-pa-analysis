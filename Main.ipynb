{
 "cells": [
  {
   "cell_type": "code",
   "execution_count": 10,
   "id": "587fd3f1-23ec-408e-ba71-b789b6874736",
   "metadata": {},
   "outputs": [
    {
     "name": "stdout",
     "output_type": "stream",
     "text": [
      "                                  Open         High          Low        Close\n",
      "Date                                                                         \n",
      "2020-01-01 00:00:00+00:00  7194.892090  7254.330566  7174.944336  7200.174316\n",
      "2020-01-02 00:00:00+00:00  7202.551270  7212.155273  6935.270020  6985.470215\n",
      "2020-01-03 00:00:00+00:00  6984.428711  7413.715332  6914.996094  7344.884277\n",
      "2020-01-04 00:00:00+00:00  7345.375488  7427.385742  7309.514160  7410.656738\n",
      "2020-01-05 00:00:00+00:00  7410.451660  7544.497070  7400.535645  7411.317383\n"
     ]
    }
   ],
   "source": [
    "import yfinance as yf\n",
    "import pandas as pd\n",
    "\n",
    "# define the variable \"btc\" as the yf ticker function, and the argument as the BTC ticker.\n",
    "btc = yf.Ticker(\"BTC-USD\") \n",
    "\n",
    "# define the variable \"btc_data\" as the yf historical price retrieval function, with the start, end date and interval as arguments.\n",
    "btc_data = btc.history(start=\"2020-01-01\", end=\"2025-04-20\", interval=\"1d\")\n",
    "\n",
    "# create the dataframe, using pandas function .DataFrame taking the variable \"btc_data\" as argument. This fills the dataframe with historical bitcoin prices as per defined in previous line. \n",
    "btc_df = pd.DataFrame(btc_data)\n",
    "\n",
    "# clean up the dataset a little bit, removing volume, dividend and stock splits, as these are irrelevant.\n",
    "btc_df = btc_df.drop(columns=[\"Volume\", \"Dividends\", \"Stock Splits\"])\n",
    "\n",
    "# print the head, or the start, of the dataframe.\n",
    "print(btc_df.head())"
   ]
  },
  {
   "cell_type": "raw",
   "id": "b11b5604-3000-40c5-bb48-ceda7d826b6c",
   "metadata": {},
   "source": []
  },
  {
   "cell_type": "code",
   "execution_count": null,
   "id": "d920e6f7-b13a-4cb2-872a-85496e36e620",
   "metadata": {},
   "outputs": [],
   "source": []
  }
 ],
 "metadata": {
  "kernelspec": {
   "display_name": "Python 3 (ipykernel)",
   "language": "python",
   "name": "python3"
  },
  "language_info": {
   "codemirror_mode": {
    "name": "ipython",
    "version": 3
   },
   "file_extension": ".py",
   "mimetype": "text/x-python",
   "name": "python",
   "nbconvert_exporter": "python",
   "pygments_lexer": "ipython3",
   "version": "3.11.5"
  }
 },
 "nbformat": 4,
 "nbformat_minor": 5
}
